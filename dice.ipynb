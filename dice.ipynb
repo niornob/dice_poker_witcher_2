{
 "cells": [
  {
   "cell_type": "markdown",
   "metadata": {},
   "source": [
    "# Premise\n",
    "[_The Witcher 2_](http://thewitcher.com/en/witcher2) has a mini ingame that can be played with some of the NPCs, called _Dice_. The game is played between two players. At the beginning both players bet some money, then each of them rolls 5 (6 sided) dices. Both can see the other's dices. After the dices have been rolled, bets can be raised and then each player chooses between 0 and 5 (inclusive) of his/her dices to roll a second time. Once both players have rolled dices a second time, a winner or a tie is decided based on some set of rules that assign ranking to a collection of 5 dices. Detailed rules can be found in the [game's wiki](https://witcher.fandom.com/wiki/The_Witcher_2_dice_poker).\n",
    "\n",
    "From the [wiki](https://witcher.fandom.com/wiki/The_Witcher_2_dice_poker), the winning combinations are (highest to lowest):\n",
    "1. __Five-of-a-kind__ - five dice showing the same value\n",
    "2. __Four-of-a-kind__ - four dice showing the same value\n",
    "3. __Full House__ - a pair and a three-of-a-kind\n",
    "4. __Six-high straight__ - dice showing II, III, IV, V and VI\n",
    "5. __Five-high straight__ - dice showing I, II, III, IV and V\n",
    "6. __Three-of-a-kind__ - three dice showing the same value\n",
    "7. __Two pairs__ - dice showing two matched pairs of values\n",
    "8. __One pair__ - dice showing a single matched pair of values\n",
    "9. __Nothing__ - none of the above\n",
    "\n",
    "Two hands are first compared by their states, in the event that two hands have the same state they are compared by their face values, in which case the higher face value wins.\n",
    "\n",
    "## Notation\n",
    "In this note, by a __hand__ we will refer to a string of length five containing only digits between 1 and 6, inclusive. A hand represents a collection of five six-sided dices. The sum of all the numbers in a hand will be called its __value__. We will call the 9 winning combinations above the __states__. A number will be assigned to each state, more specifically, we will assign 0 to Nothing, 1 to One pair, 2 to Two pairs and so on. These numbers will be referred to as the __coarse rank__ of a state. To break the tie between two hands with the same state we define a __fine rank__:\n",
    "> fine rank = coarse rank + value/30\n",
    "\n",
    "Note that the highest value that a hand can have is 30.\n",
    "\n",
    "## Plan\n",
    "Our notion of an __optimal solution__ in this game is the following:\n",
    "> An optimal solution minimizes the maximum probability of not winning.\n",
    "\n",
    "In what follows we will find a solution that satisfies this criterion. Given the player's hand and the opponent's hand we will find a subset of the dices in the player's hand which, if rolled, minimizes the chance of not winning. To be more precise, suppose $h_p, h_o \\in \\mathbb 6^5$ (where $\\mathbb 6 = \\{1,2,3,4,5,6\\}$) represent the player's and the opponent's hand (in code $h_p$ and $h_o$ will be strings not set, but abstractly they are sets). Now, given two subsets $s_p \\subseteq h_p$ and $s_o \\subseteq h_o$, let us define:\n",
    "> $P_{!\\mathrm{win}}(h_p, s_p; h_o, s_o) := $ The probability that the player will not win if the player and the opponent roll the dices in $s_p$ and $s_o$ respectively.\n",
    "\n",
    "Now we can articulate what we mean by an optimal solution:\n",
    "> Given a player's hand $h_p$ and an opponent's hand $h_o$ the optimal solution (for the choice of subset of the player's hand to roll) is:\n",
    "$$ \\underset{s_p \\subseteq h_p}{\\mathrm{argmin}}\\, \\underset{s_o \\subseteq h_o}{\\mathrm{max}}\\, P_{!\\mathrm{win}}(h_p, s_p; h_o, s_o)\\,.$$"
   ]
  },
  {
   "cell_type": "markdown",
   "metadata": {},
   "source": [
    "# Initialization\n",
    "Let us begin by loading all the necessary modules."
   ]
  },
  {
   "cell_type": "code",
   "execution_count": 1,
   "metadata": {
    "collapsed": true
   },
   "outputs": [],
   "source": [
    "if(__name__ == '__main__'):\n",
    "    %matplotlib inline\n",
    "import numpy as np\n",
    "import matplotlib.pyplot as plt\n",
    "import time\n",
    "from itertools import permutations\n",
    "from pandas import DataFrame, Series\n",
    "from scipy.special import factorial\n",
    "import random\n",
    "random.seed()"
   ]
  },
  {
   "cell_type": "markdown",
   "metadata": {},
   "source": [
    "We assign a coarse rank to each of the 9 winning combinations, and define a few utility functions."
   ]
  },
  {
   "cell_type": "code",
   "execution_count": 2,
   "metadata": {
    "collapsed": true
   },
   "outputs": [],
   "source": [
    "# Each state will carry an integer weight\n",
    "state_rank = {'Five of a Kind':8, 'Four of a Kind':7, 'Full House':6, 'Six High Straight':5, \\\n",
    "               'Five High Straight':4, 'Three of a Kind':3, 'Two Pairs':2, 'Pair':1, 'Nothing':0}\n",
    "\n",
    "# This serves to catch bugs\n",
    "def check_hand(hand):\n",
    "    assert(type(hand) == str and len(hand) == 5 and hand.isdigit())\n",
    "    \n",
    "# This serves to catch bugs\n",
    "def check_roll(roll):\n",
    "    assert(roll == [] or (type(roll) == list and len(roll) <= 5 and min(roll) >= 0 and max(roll) <= 4))\n",
    "    \n",
    "# The \"roll\" function generates a random hand.\n",
    "def roll():\n",
    "    return ''.join([str(random.randint(1,6)) for i in range(5)])"
   ]
  },
  {
   "cell_type": "markdown",
   "metadata": {},
   "source": [
    "# Some Combinatorics\n",
    "We need a function to compute the fine rank of a hand. The function is called `rank_fine`."
   ]
  },
  {
   "cell_type": "code",
   "execution_count": 3,
   "metadata": {
    "collapsed": true
   },
   "outputs": [],
   "source": [
    "# the 'decon' function takes in a hand and outputs two lists of the same length, the latter \n",
    "# (descendingly ordered) containing the frequencies of numbers that appear in the hand\n",
    "# and the former contains the numbers that correspond to the frequencies. For example,\n",
    "# if the hand is '32443', then the outputs will be [4, 3, 2], [2, 2, 1] since there are\n",
    "# two 4s, two 3s and one 2.\n",
    "def decon(hand):\n",
    "    check_hand(hand)\n",
    "    \n",
    "    record = Series([])\n",
    "    for c in hand:\n",
    "        if int(c) in record:\n",
    "            record[int(c)] += 1\n",
    "        else:\n",
    "            record[int(c)] = 1\n",
    "    sorted_record = record.sort_values(ascending=False)\n",
    "                \n",
    "    return list(sorted_record.index), list(sorted_record.values)\n",
    "\n",
    "# the 'evaluate' function takes in the output of the dcon function and outputs the state of\n",
    "# the hand and its value.\n",
    "def evaluate(occupants, core):\n",
    "    assert(type(occupants) == list and type(core) == list and len(occupants) == len(core))\n",
    "    \n",
    "    face_value = sum(np.array(occupants) * np.array(core))\n",
    "    \n",
    "    if 5 in core:\n",
    "        return 'Five of a Kind', face_value\n",
    "    \n",
    "    if 4 in core:\n",
    "        return 'Four of a Kind', face_value\n",
    "    \n",
    "    if 3 in core and 2 in core:\n",
    "        return 'Full House', face_value\n",
    "    \n",
    "    if 1 in core and core.count(1) == 5:\n",
    "        six_high_face_value = sum([2,3,4,5,6])\n",
    "        five_high_face_value = sum([1,2,3,4,5])\n",
    "        if face_value == six_high_face_value:\n",
    "            return 'Six High Straight', face_value\n",
    "        elif face_value == five_high_face_value:\n",
    "            return 'Five High Straight', face_value\n",
    "        \n",
    "    if 3 in core:\n",
    "        return 'Three of a Kind', face_value\n",
    "    \n",
    "    if 2 in core:\n",
    "        if core.count(2) == 2:\n",
    "            return 'Two Pairs', face_value\n",
    "        else:\n",
    "            return 'Pair', face_value\n",
    "        \n",
    "    return 'Nothing', face_value\n",
    "\n",
    "# 'rank_fine' takes in a hand and outputs its fine rank\n",
    "def rank_fine(hand):\n",
    "    check_hand(hand)\n",
    "    \n",
    "    appearance, core = decon(hand)\n",
    "    state, value = evaluate(appearance, core)\n",
    "    return state_rank[state] + value/30"
   ]
  },
  {
   "cell_type": "markdown",
   "metadata": {},
   "source": [
    "Some combinatorial functions are needed to compute the possible outcomes of a roll and their associated probabilities."
   ]
  },
  {
   "cell_type": "code",
   "execution_count": 4,
   "metadata": {
    "collapsed": true
   },
   "outputs": [],
   "source": [
    "# the 'outcomes' function takes in an integer 0 <= n <= 5 and generates all possible \n",
    "# outcomes of rolling n six-sided dices. Each possible outcome is represnted by a \n",
    "# length 5 string containing only numerals.\n",
    "def outcomes(n):\n",
    "    assert(type(n) == int and n >= 0 and n <= 5)\n",
    "    \n",
    "    outcomes_set = {''.join(outcome) for outcome in permutations('111112222233333444445555566666', n)}\n",
    "    return np.array(list(outcomes_set))\n",
    "\n",
    "# outcomes is a costly function, therefore it's significantly more efficient to generate all possible outcomes of\n",
    "# rolling 0, 1, ..., 5 dices and store them in a list. 'Outcome[n]' for 0 <= n <= 5 is a list containing all\n",
    "# possible outcomes of rolling n six-sided dices.\n",
    "Outcomes = [outcomes(i) for i in range(6)]\n",
    "\n",
    "# the 'rank_fine' function is also rather costly considering how many times it will\n",
    "# need to be used. time cost reduces significantly if we just compute all the ranks\n",
    "# at the beginning and store them in a dictionary.\n",
    "rank_f = {hand: rank_fine(str(hand)) for hand in Outcomes[5]}\n",
    "\n",
    "# 'second_roll_states' takes in a hand and a list (called 'to_roll') of positions of\n",
    "# dices to roll, then it outputs a 'DataFrame' object with one column titled 'Hand' \n",
    "# which contains the hands that can occur if the dices in 'to_roll' are rolled.\n",
    "def second_roll_states(hand, to_roll=[]):\n",
    "    check_hand(hand)\n",
    "    assert(type(to_roll) == list and len(to_roll) < 6)\n",
    "    \n",
    "    fixed_positions = set([0,1,2,3,4]) - set(to_roll)\n",
    "    fixed_dices = ''.join([hand[i] for i in fixed_positions])\n",
    "    local_outcomes = Outcomes[len(to_roll)]\n",
    "    start_time = time.time()\n",
    "    global_outcomes = np.vectorize(lambda x: rank_f[fixed_dices + x])(local_outcomes)\n",
    "    return DataFrame(global_outcomes, columns=['Hand'])"
   ]
  },
  {
   "cell_type": "code",
   "execution_count": 5,
   "metadata": {
    "collapsed": true
   },
   "outputs": [],
   "source": [
    "# 'chances' takes in a hand and a subset to roll and uses 'second_roll_states' to \n",
    "# compute all the possible hands that can occur after rolling the subset. Then\n",
    "# it converts all the possible hands into their fine ranks and then computes the\n",
    "# probability of each fine rank ocurring. it outputs a 'DataFrame' object with two\n",
    "# columns, the 'Rank' column contains the possible fine ranks that can occur and\n",
    "# the 'Probability' column contains their corresponding probability.\n",
    "def chances(hand, to_roll=[], sort=False):\n",
    "    check_hand(hand)\n",
    "    assert(type(to_roll) == list and len(to_roll) < 6)\n",
    "    \n",
    "    states = second_roll_states(hand, to_roll)\n",
    "    total = states.shape[0]\n",
    "    \n",
    "    state_probabilities = states['Hand'].value_counts()/total\n",
    "    chance_table = DataFrame(np.array([state_probabilities.index, state_probabilities.values]).T, columns=['Rank', 'Probability'])\n",
    "    \n",
    "    if sort:\n",
    "        chance_table = chance_table.sort_values('Rank', ascending=False)\n",
    "        \n",
    "    return chance_table"
   ]
  },
  {
   "cell_type": "markdown",
   "metadata": {},
   "source": [
    "A sample output of `chances`, when we roll some dices a second time, is the following:"
   ]
  },
  {
   "cell_type": "code",
   "execution_count": 6,
   "metadata": {},
   "outputs": [
    {
     "name": "stdout",
     "output_type": "stream",
     "text": [
      "Hand: 65114\n",
      "To roll: [3, 0, 4, 1, 2]\n",
      "         Rank  Probability\n",
      "102  9.000000     0.000129\n",
      "105  8.833333     0.000129\n",
      "101  8.666667     0.000129\n",
      "103  8.500000     0.000129\n",
      "104  8.333333     0.000129\n",
      "100  8.166667     0.000129\n",
      "97   7.966667     0.000643\n",
      "92   7.933333     0.000643\n",
      "90   7.900000     0.000643\n",
      "73   7.866667     0.001286\n",
      "87   7.833333     0.000643\n",
      "93   7.800000     0.000643\n",
      "94   7.766667     0.000643\n",
      "79   7.733333     0.001286\n",
      "70   7.700000     0.001286\n",
      "88   7.633333     0.000643\n",
      "85   7.600000     0.001286\n",
      "71   7.566667     0.001286\n",
      "96   7.533333     0.000643\n",
      "76   7.466667     0.001286\n",
      "81   7.433333     0.001286\n",
      "91   7.400000     0.000643\n",
      "89   7.366667     0.000643\n",
      "86   7.333333     0.000643\n",
      "84   7.300000     0.001286\n",
      "99   7.266667     0.000643\n",
      "95   7.233333     0.000643\n",
      "98   7.200000     0.000643\n",
      "72   6.933333     0.001286\n",
      "77   6.900000     0.001286\n",
      "..        ...          ...\n",
      "11   2.666667     0.023148\n",
      "12   2.633333     0.019290\n",
      "13   2.600000     0.019290\n",
      "15   2.566667     0.019290\n",
      "14   2.533333     0.019290\n",
      "10   2.500000     0.023148\n",
      "28   2.466667     0.011574\n",
      "27   2.433333     0.011574\n",
      "29   2.400000     0.011574\n",
      "42   2.366667     0.007716\n",
      "49   2.333333     0.007716\n",
      "52   2.300000     0.003858\n",
      "36   1.800000     0.007716\n",
      "17   1.766667     0.015432\n",
      "9    1.733333     0.030864\n",
      "5    1.700000     0.046296\n",
      "8    1.666667     0.030864\n",
      "2    1.633333     0.046296\n",
      "0    1.600000     0.054012\n",
      "1    1.566667     0.054012\n",
      "3    1.533333     0.046296\n",
      "6    1.500000     0.030864\n",
      "4    1.466667     0.046296\n",
      "7    1.433333     0.030864\n",
      "21   1.400000     0.015432\n",
      "47   1.366667     0.007716\n",
      "23   0.633333     0.015432\n",
      "19   0.600000     0.015432\n",
      "22   0.566667     0.015432\n",
      "20   0.533333     0.015432\n",
      "\n",
      "[106 rows x 2 columns]\n"
     ]
    }
   ],
   "source": [
    "if(__name__ == '__main__'):\n",
    "    dices_to_roll = 5\n",
    "    hand = ''.join([str(random.randint(1,6)) for i in range(5)])\n",
    "    to_roll = [int(x) for x in list(permutations('01234', dices_to_roll))[random.randint(0, factorial(5)/factorial(5-dices_to_roll)-1)]]\n",
    "    print('Hand: ' + hand)\n",
    "    print('To roll: ' + str(to_roll))\n",
    "    print(chances(hand, to_roll, sort=True))"
   ]
  },
  {
   "cell_type": "markdown",
   "metadata": {},
   "source": [
    "# Computing Losses\n",
    "The function `p_loss` below is the function $P_{!\\mathrm{win}}(h_p, s_p; h_o, s_o)$ mentioned in the __Premise__. In the code below $h_p, s_p, h_o$ and $s_o$ are called `hand1`, `to_roll1`, `hand2` and `to_roll2` respectively."
   ]
  },
  {
   "cell_type": "code",
   "execution_count": 7,
   "metadata": {},
   "outputs": [],
   "source": [
    "# 'p_loss' computes the probability of not winning if the player with hand 'hand1'\n",
    "# rolls the subset 'to_roll1' and the opponent with hand 'hand2' rolls the subset 'to_roll2'.\n",
    "def p_loss(hand1, to_roll1, hand2, to_roll2):\n",
    "    check_hand(hand1)\n",
    "    check_hand(hand2)\n",
    "    check_roll(to_roll1)\n",
    "    check_roll(to_roll2)\n",
    "    \n",
    "    stime = time.time()\n",
    "    chances1 = chances(hand1, to_roll1)\n",
    "    chances2 = chances(hand2, to_roll2)\n",
    "    \n",
    "    prod_p = np.outer(chances2['Probability'], chances1['Probability'])\n",
    "    prod_r = np.vectorize(lambda x: 1 if x >= 1 else 0)(np.divide.outer(chances2['Rank'], chances1['Rank']))\n",
    "    p_not_win = np.sum(prod_p * prod_r)\n",
    "    \n",
    "    # as a cautionary tale, the following line computes the same number as the p_not_win above\n",
    "    # but takes 10 times as much time, because it uses list comprehension, as opposed to the\n",
    "    # numpy vector operations above. numpy uses parallel computing which can lead to superb\n",
    "    # speed boost.\n",
    "    \n",
    "    # p_not_win = sum([chances1['Probability'][i1] * chances2['Probability'][i2] for i1 in chances1.index for i2 in chances2.index if chances1['Score'][i1] <= chances2['Score'][i2]])\n",
    "    \n",
    "    return p_not_win\n",
    "\n",
    "# The function 'second_choices' outputs a list of lists. The sublists are lists\n",
    "# of positions (from 0 to 4) and represents the dices to roll.\n",
    "def second_choices():\n",
    "    choices = []\n",
    "    for i in range(0,32):\n",
    "        bini = bin(i)[2:]\n",
    "        bini = ''.join(['0']*(5-len(bini))) + bini\n",
    "        bini = Series(np.array([c for c in bini]))\n",
    "        choices.append(list(bini[bini == '1'].index))\n",
    "    return choices"
   ]
  },
  {
   "cell_type": "markdown",
   "metadata": {},
   "source": [
    "In the following, the `p_loss_max` function computes $\\underset{s_o \\subseteq h_o}{\\mathrm{max}}\\, P_{!\\mathrm{win}}(h_p, s_p; h_o, s_o)$. As before, $h_p, s_p$, and $h_o$ are written as `hand1`, `to_roll1`, and `hand2` respectively. There is an optional argument rolls so that when we need to use this function multiple times we can save time by computing `second_choices()` once and then just passing the stored result as argument."
   ]
  },
  {
   "cell_type": "code",
   "execution_count": 8,
   "metadata": {},
   "outputs": [],
   "source": [
    "# 'p_loss_max' computes the probability of not winning if the player with hand 'hand1' rolls\n",
    "# the subset 'to_roll1' when the opponent has the hand 'hand2'. the function goes through\n",
    "# all the subsets of 'hand2' for the opponent to roll and computes the probability of loss\n",
    "# using p_loss and then finds the maximum of these probabilities.\n",
    "def p_loss_max(hand1, to_roll1, hand2, rolls=second_choices()):\n",
    "    check_hand(hand1)\n",
    "    check_hand(hand2)\n",
    "    check_roll(to_roll1)\n",
    "    \n",
    "    p_losses = np.vectorize(lambda x: p_loss(hand1, to_roll1, hand2, x))(rolls)\n",
    "    \n",
    "    p_max = max(p_losses)\n",
    "    \n",
    "    return p_max"
   ]
  },
  {
   "cell_type": "markdown",
   "metadata": {},
   "source": [
    "# An Optimal Move\n",
    "All that is left to do is to compute the $\\underset{s_p \\subseteq h_p}{\\mathrm{argmin}}$ part of the formula for the optimizer we mentioned in the __Premise__. For the sake of quick reference, we reproduce the formula for the optimizer:\n",
    "$$ \\underset{s_p \\subseteq h_p}{\\mathrm{argmin}}\\, \\underset{s_o \\subseteq h_o}{\\mathrm{max}}\\, P_{!\\mathrm{win}}(h_p, s_p; h_o, s_o)\\,.$$\n",
    "Implementing this is the purpose of the last function, the `optimize`."
   ]
  },
  {
   "cell_type": "code",
   "execution_count": 9,
   "metadata": {
    "collapsed": true
   },
   "outputs": [],
   "source": [
    "def optimize(hand1, hand2, rolls = second_choices()):\n",
    "    check_hand(hand1)\n",
    "    check_hand(hand2)\n",
    "    \n",
    "    roll_p_loss = [[to_roll1, p_loss_max(hand1, to_roll1, hand2, rolls)] for to_roll1 in rolls]\n",
    "    roll_p_loss = DataFrame(roll_p_loss, columns=['Roll', 'P_loss'])\n",
    "    min_id = roll_p_loss['P_loss'].idxmin()\n",
    "    \n",
    "    return roll_p_loss.loc[min_id]"
   ]
  },
  {
   "cell_type": "markdown",
   "metadata": {},
   "source": [
    "Finally, let us see how our `optimize` function works for some random test case."
   ]
  },
  {
   "cell_type": "code",
   "execution_count": 10,
   "metadata": {},
   "outputs": [
    {
     "name": "stdout",
     "output_type": "stream",
     "text": [
      "My hand: 25352, Opponent's hand: 55655\n",
      "Optimal choice: [0, 2, 4], Max p of loss: 0.99537037037\n",
      "Time took: 5.723157644271851s.\n"
     ]
    }
   ],
   "source": [
    "if(__name__ == '__main__'):\n",
    "    # To use this for the purpose of playing actual games (as in The Witcher 2), replace \"roll()\" in the following\n",
    "    # two lines with two length 5 strings containing numbers only representing dices.\n",
    "    hand_my = roll() # Replace with the player's hand, example: Hand('51342').\n",
    "    hand_op = roll() # Replace with the opponent's hand, example: Hand('34323').\n",
    "    #hand_my = '23253'\n",
    "    #hand_op = '21515'\n",
    "    print('My hand: ' + hand_my + ', Opponent\\'s hand: ' + hand_op)\n",
    "\n",
    "    start_time = time.time()\n",
    "    \n",
    "    opt_choice = optimize(hand_my, hand_op)\n",
    "    print('Optimal choice: ' + str(opt_choice['Roll']) + ', Max p of loss: ' + str(opt_choice['P_loss']))\n",
    "    print('Time took: ' + str(time.time()-start_time) + 's.')"
   ]
  },
  {
   "cell_type": "markdown",
   "metadata": {},
   "source": [
    "## Sanity check\n",
    "We can see more explicitly how well our `optimize` function works. Since this game is completely symmetric between the two players, if both of them plays optimally, the likelihood of winning for one of them should be 50%, when averaged over a large number of games. We can randomly generate two hands some large number of times, compute the probability of winning for player 1 and the distribution of these probabilities should be symmetric with mean 0.5. Let's see it in action."
   ]
  },
  {
   "cell_type": "code",
   "execution_count": 11,
   "metadata": {},
   "outputs": [
    {
     "name": "stdout",
     "output_type": "stream",
     "text": [
      "Mean: 0.505456092345, Median: 0.512699331276\n"
     ]
    },
    {
     "data": {
      "image/png": "[encoded data removed]",
      "text/plain": [
       "<matplotlib.figure.Figure at 0x7fdc48637390>"
      ]
     },
     "metadata": {},
     "output_type": "display_data"
    },
    {
     "name": "stdout",
     "output_type": "stream",
     "text": [
      "Time took: 1728.3753888607025s.\n"
     ]
    }
   ],
   "source": [
    "if(__name__ == '__main__'):\n",
    "    start_time = time.time()\n",
    "    sample_size = 300\n",
    "    n_bins = int(sample_size/15)\n",
    "    rolls = second_choices()\n",
    "    p_loss_distro = [optimize(roll(), roll(), rolls=rolls)['P_loss'] for i in range(sample_size)]\n",
    "    plt.hist(p_loss_distro, bins=n_bins, range=(0,1))\n",
    "    plt.xlabel('Maximum Probability of Loss')\n",
    "    plt.ylabel('Frequency')\n",
    "    print('Mean: ' + str(np.mean(p_loss_distro)) + ', Median: ' + str(np.median(p_loss_distro)))\n",
    "    plt.show()\n",
    "    print('Time took: ' + str(time.time()-start_time) + 's.')"
   ]
  },
  {
   "cell_type": "markdown",
   "metadata": {},
   "source": [
    "The reasonably (considering the size) symmetric looking distribution has mean and median fairly close to 0.5, clearly our optimizer isn't too bad!"
   ]
  },
  {
   "cell_type": "code",
   "execution_count": null,
   "metadata": {
    "collapsed": true
   },
   "outputs": [],
   "source": []
  }
 ],
 "metadata": {
  "kernelspec": {
   "display_name": "Python 3",
   "language": "python",
   "name": "python3"
  },
  "language_info": {
   "codemirror_mode": {
    "name": "ipython",
    "version": 3
   },
   "file_extension": ".py",
   "mimetype": "text/x-python",
   "name": "python",
   "nbconvert_exporter": "python",
   "pygments_lexer": "ipython3",
   "version": "3.5.2"
  }
 },
 "nbformat": 4,
 "nbformat_minor": 2
}
